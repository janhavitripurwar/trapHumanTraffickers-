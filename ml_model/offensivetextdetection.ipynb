{
  "nbformat": 4,
  "nbformat_minor": 0,
  "metadata": {
    "colab": {
      "name": "offensivetextdetection.ipynb",
      "provenance": [],
      "collapsed_sections": []
    },
    "kernelspec": {
      "display_name": "Python 3",
      "name": "python3"
    },
    "language_info": {
      "name": "python"
    }
  },
  "cells": [
    {
      "cell_type": "code",
      "metadata": {
        "id": "kgNT-QH325P2"
      },
      "source": [
        "import numpy as np\n",
        "import pandas as pd\n",
        "import os"
      ],
      "execution_count": 1,
      "outputs": []
    },
    {
      "cell_type": "code",
      "metadata": {
        "colab": {
          "base_uri": "https://localhost:8080/",
          "height": 195
        },
        "id": "xta58ItH35Gj",
        "outputId": "4e268aed-7a0f-4066-b17f-4a30434a8177"
      },
      "source": [
        "df = pd.read_csv('train_E6oV3lV.csv')\n",
        "df['label'] = df['label'].map({0: 2, 1: 1})\n",
        "df = df.drop('id', axis=1)\n",
        "df.head()"
      ],
      "execution_count": 2,
      "outputs": [
        {
          "output_type": "execute_result",
          "data": {
            "text/html": [
              "<div>\n",
              "<style scoped>\n",
              "    .dataframe tbody tr th:only-of-type {\n",
              "        vertical-align: middle;\n",
              "    }\n",
              "\n",
              "    .dataframe tbody tr th {\n",
              "        vertical-align: top;\n",
              "    }\n",
              "\n",
              "    .dataframe thead th {\n",
              "        text-align: right;\n",
              "    }\n",
              "</style>\n",
              "<table border=\"1\" class=\"dataframe\">\n",
              "  <thead>\n",
              "    <tr style=\"text-align: right;\">\n",
              "      <th></th>\n",
              "      <th>label</th>\n",
              "      <th>tweet</th>\n",
              "    </tr>\n",
              "  </thead>\n",
              "  <tbody>\n",
              "    <tr>\n",
              "      <th>0</th>\n",
              "      <td>2</td>\n",
              "      <td>@user when a father is dysfunctional and is s...</td>\n",
              "    </tr>\n",
              "    <tr>\n",
              "      <th>1</th>\n",
              "      <td>2</td>\n",
              "      <td>@user @user thanks for #lyft credit i can't us...</td>\n",
              "    </tr>\n",
              "    <tr>\n",
              "      <th>2</th>\n",
              "      <td>2</td>\n",
              "      <td>bihday your majesty</td>\n",
              "    </tr>\n",
              "    <tr>\n",
              "      <th>3</th>\n",
              "      <td>2</td>\n",
              "      <td>#model   i love u take with u all the time in ...</td>\n",
              "    </tr>\n",
              "    <tr>\n",
              "      <th>4</th>\n",
              "      <td>2</td>\n",
              "      <td>factsguide: society now    #motivation</td>\n",
              "    </tr>\n",
              "  </tbody>\n",
              "</table>\n",
              "</div>"
            ],
            "text/plain": [
              "   label                                              tweet\n",
              "0      2   @user when a father is dysfunctional and is s...\n",
              "1      2  @user @user thanks for #lyft credit i can't us...\n",
              "2      2                                bihday your majesty\n",
              "3      2  #model   i love u take with u all the time in ...\n",
              "4      2             factsguide: society now    #motivation"
            ]
          },
          "metadata": {
            "tags": []
          },
          "execution_count": 2
        }
      ]
    },
    {
      "cell_type": "code",
      "metadata": {
        "id": "iGnXeFQK4wFT"
      },
      "source": [
        "from keras.preprocessing.text import Tokenizer\n",
        "from keras.preprocessing.sequence import pad_sequences\n",
        "from sklearn.model_selection import train_test_split\n",
        "import copy"
      ],
      "execution_count": 3,
      "outputs": []
    },
    {
      "cell_type": "code",
      "metadata": {
        "id": "edp4aTMf5Uws"
      },
      "source": [
        "train, test = train_test_split(df, test_size=0.2)"
      ],
      "execution_count": 4,
      "outputs": []
    },
    {
      "cell_type": "code",
      "metadata": {
        "colab": {
          "base_uri": "https://localhost:8080/",
          "height": 402
        },
        "id": "BomQx_8Upb5w",
        "outputId": "4e95590b-5b05-4f9c-ceb1-60820d40cd4a"
      },
      "source": [
        "train"
      ],
      "execution_count": 5,
      "outputs": [
        {
          "output_type": "execute_result",
          "data": {
            "text/html": [
              "<div>\n",
              "<style scoped>\n",
              "    .dataframe tbody tr th:only-of-type {\n",
              "        vertical-align: middle;\n",
              "    }\n",
              "\n",
              "    .dataframe tbody tr th {\n",
              "        vertical-align: top;\n",
              "    }\n",
              "\n",
              "    .dataframe thead th {\n",
              "        text-align: right;\n",
              "    }\n",
              "</style>\n",
              "<table border=\"1\" class=\"dataframe\">\n",
              "  <thead>\n",
              "    <tr style=\"text-align: right;\">\n",
              "      <th></th>\n",
              "      <th>label</th>\n",
              "      <th>tweet</th>\n",
              "    </tr>\n",
              "  </thead>\n",
              "  <tbody>\n",
              "    <tr>\n",
              "      <th>27747</th>\n",
              "      <td>1</td>\n",
              "      <td>@user just got done threatening my coworker to...</td>\n",
              "    </tr>\n",
              "    <tr>\n",
              "      <th>13529</th>\n",
              "      <td>2</td>\n",
              "      <td>happy #caturday !! #catstagram #catlife   @ so...</td>\n",
              "    </tr>\n",
              "    <tr>\n",
              "      <th>30762</th>\n",
              "      <td>2</td>\n",
              "      <td>sometimes i feel that i have given too much ri...</td>\n",
              "    </tr>\n",
              "    <tr>\n",
              "      <th>26521</th>\n",
              "      <td>2</td>\n",
              "      <td>my laptop's broken now cant binge watch crimin...</td>\n",
              "    </tr>\n",
              "    <tr>\n",
              "      <th>11939</th>\n",
              "      <td>2</td>\n",
              "      <td>#model   i love u take with u all the time in ...</td>\n",
              "    </tr>\n",
              "    <tr>\n",
              "      <th>...</th>\n",
              "      <td>...</td>\n",
              "      <td>...</td>\n",
              "    </tr>\n",
              "    <tr>\n",
              "      <th>20710</th>\n",
              "      <td>2</td>\n",
              "      <td>@user feeling #proud and   to see bold #vision...</td>\n",
              "    </tr>\n",
              "    <tr>\n",
              "      <th>27138</th>\n",
              "      <td>2</td>\n",
              "      <td>how to be perfectly   alone: 9 transformationa...</td>\n",
              "    </tr>\n",
              "    <tr>\n",
              "      <th>20701</th>\n",
              "      <td>2</td>\n",
              "      <td>#london   attack bull chase: when you leave th...</td>\n",
              "    </tr>\n",
              "    <tr>\n",
              "      <th>4965</th>\n",
              "      <td>2</td>\n",
              "      <td>i finally found a way how to delete old tweets...</td>\n",
              "    </tr>\n",
              "    <tr>\n",
              "      <th>1001</th>\n",
              "      <td>2</td>\n",
              "      <td>i am thankful for oxygen. #thankful #positive ...</td>\n",
              "    </tr>\n",
              "  </tbody>\n",
              "</table>\n",
              "<p>25569 rows × 2 columns</p>\n",
              "</div>"
            ],
            "text/plain": [
              "       label                                              tweet\n",
              "27747      1  @user just got done threatening my coworker to...\n",
              "13529      2  happy #caturday !! #catstagram #catlife   @ so...\n",
              "30762      2  sometimes i feel that i have given too much ri...\n",
              "26521      2  my laptop's broken now cant binge watch crimin...\n",
              "11939      2  #model   i love u take with u all the time in ...\n",
              "...      ...                                                ...\n",
              "20710      2  @user feeling #proud and   to see bold #vision...\n",
              "27138      2  how to be perfectly   alone: 9 transformationa...\n",
              "20701      2  #london   attack bull chase: when you leave th...\n",
              "4965       2  i finally found a way how to delete old tweets...\n",
              "1001       2  i am thankful for oxygen. #thankful #positive ...\n",
              "\n",
              "[25569 rows x 2 columns]"
            ]
          },
          "metadata": {
            "tags": []
          },
          "execution_count": 5
        }
      ]
    },
    {
      "cell_type": "code",
      "metadata": {
        "id": "PkwsObbV5XV5"
      },
      "source": [
        "train_df = copy.deepcopy(train)\n",
        "test_df = copy.deepcopy(test)\n",
        "\n",
        "train_texts = train_df['tweet'].values\n",
        "train_texts = [s.lower() for s in train_texts]\n",
        "\n",
        "test_texts = test_df['tweet'].values\n",
        "test_texts = [s.lower() for s in test_texts]"
      ],
      "execution_count": 49,
      "outputs": []
    },
    {
      "cell_type": "markdown",
      "metadata": {
        "id": "wVq_MDpIgYgA"
      },
      "source": [
        "The word_index assigns a unique index to each word present in the text. This unique integer helps the model during training purposes."
      ]
    },
    {
      "cell_type": "code",
      "metadata": {
        "id": "jVUJmB4b5bdY"
      },
      "source": [
        "tk = Tokenizer(num_words=None, char_level=True, oov_token='UNK')\n",
        "tk.fit_on_texts(train_texts)\n",
        "\n",
        "alphabet = \"abcdefghijklmnopqrstuvwxyz0123456789 ,;.!?:'\\\"/\\\\|_@#$%^&*~`+-=<>()[]{}\"\n",
        "\n",
        "char_dict = {}\n",
        "for i, char in enumerate(alphabet):\n",
        "    char_dict[char] = i + 1\n",
        "tk.word_index = char_dict.copy()\n",
        "tk.word_index[tk.oov_token] = max(char_dict.values()) + 1\n",
        "\n",
        "#texts_to_sequences method helps in converting tokens of text corpus into a sequence of integers.\n",
        "train_sequences = tk.texts_to_sequences(train_texts)\n",
        "test_texts = tk.texts_to_sequences(test_texts)\n",
        "\n",
        "#pad_sequences is used to ensure that all sequences in a list have the same length.\n",
        "train_data = pad_sequences(train_sequences, maxlen=150, padding='post')\n",
        "test_data = pad_sequences(test_texts, maxlen=150, padding='post')\n",
        "\n",
        "train_data = np.array(train_data, dtype='float32')\n",
        "test_data = np.array(test_data, dtype='float32')\n",
        "\n",
        "# train_classes = train_df['label'].values\n",
        "# train_class_list = [x - 1 for x in train_classes]\n",
        "# test_classes = test_df['label'].values\n",
        "# test_class_list = [x - 1 for x in test_classes]\n",
        "\n",
        "# from keras.utils import to_categorical\n",
        "\n",
        "# train_classes = to_categorical(train_class_list)\n",
        "# test_classes = to_categorical(test_class_list)"
      ],
      "execution_count": 50,
      "outputs": []
    },
    {
      "cell_type": "code",
      "metadata": {
        "colab": {
          "base_uri": "https://localhost:8080/"
        },
        "id": "YUBDMCysozYP",
        "outputId": "fbddb7b5-4e11-4618-e18f-4353ca537d99"
      },
      "source": [
        "train_classes = train_df['label'].values\n",
        "train_class_list = [x - 1 for x in train_classes]\n",
        "\n",
        "test_classes = test_df['label'].values\n",
        "test_class_list = [x - 1 for x in test_classes]\n",
        "\n",
        "from keras.utils import to_categorical\n",
        "#one hot encode integer data\n",
        "train_classes = to_categorical(train_class_list)\n",
        "test_classes = to_categorical(test_class_list)\n",
        "\n",
        "ab = np.argmax(train_classes, axis = 1)\n",
        "ab"
      ],
      "execution_count": 151,
      "outputs": [
        {
          "output_type": "execute_result",
          "data": {
            "text/plain": [
              "array([0, 1, 1, ..., 1, 1, 1])"
            ]
          },
          "metadata": {
            "tags": []
          },
          "execution_count": 151
        }
      ]
    },
    {
      "cell_type": "code",
      "metadata": {
        "colab": {
          "base_uri": "https://localhost:8080/"
        },
        "id": "88ajHr889Quj",
        "outputId": "c8b4b794-075e-42dc-f515-f38ca51ce9cb"
      },
      "source": [
        "train_classes"
      ],
      "execution_count": 150,
      "outputs": [
        {
          "output_type": "execute_result",
          "data": {
            "text/plain": [
              "array([[1., 0.],\n",
              "       [0., 1.],\n",
              "       [0., 1.],\n",
              "       ...,\n",
              "       [0., 1.],\n",
              "       [0., 1.],\n",
              "       [0., 1.]], dtype=float32)"
            ]
          },
          "metadata": {
            "tags": []
          },
          "execution_count": 150
        }
      ]
    },
    {
      "cell_type": "code",
      "metadata": {
        "colab": {
          "base_uri": "https://localhost:8080/"
        },
        "id": "ty-yUiHV5d5h",
        "outputId": "6487cb5c-0012-4c0e-8309-ee1ecfb7f966"
      },
      "source": [
        "vocab_size = len(tk.word_index)\n",
        "#unique integers assigned to each word"
      ],
      "execution_count": 64,
      "outputs": [
        {
          "output_type": "execute_result",
          "data": {
            "text/plain": [
              "70"
            ]
          },
          "metadata": {
            "tags": []
          },
          "execution_count": 64
        }
      ]
    },
    {
      "cell_type": "code",
      "metadata": {
        "id": "5-WPs2XG5glr"
      },
      "source": [
        "embedding_weights = [] #(71, 70)\n",
        "embedding_weights.append(np.zeros(vocab_size)) # first row is pad\n",
        "\n",
        "for char, i in tk.word_index.items(): # from index 1 to 70\n",
        "    onehot = np.zeros(vocab_size)\n",
        "    onehot[i-1] = 1\n",
        "    embedding_weights.append(onehot)\n",
        "embedding_weights = np.array(embedding_weights)"
      ],
      "execution_count": 11,
      "outputs": []
    },
    {
      "cell_type": "code",
      "metadata": {
        "id": "6ghVanNV5i8v"
      },
      "source": [
        "embedding_weights = [] #(71, 70)\n",
        "embedding_weights.append(np.zeros(vocab_size)) # first row is pad\n",
        "\n",
        "for char, i in tk.word_index.items(): # from index 1 to 70\n",
        "    onehot = np.zeros(vocab_size)\n",
        "    onehot[i-1] = 1\n",
        "    embedding_weights.append(onehot)\n",
        "embedding_weights = np.array(embedding_weights)"
      ],
      "execution_count": 12,
      "outputs": []
    },
    {
      "cell_type": "code",
      "metadata": {
        "id": "6evas3b98uxx"
      },
      "source": [
        "from keras.layers import Input, Embedding, Activation, Flatten, Dense\n",
        "from keras.layers import Conv1D, MaxPooling1D, Dropout\n",
        "from keras.models import Model"
      ],
      "execution_count": 13,
      "outputs": []
    },
    {
      "cell_type": "code",
      "metadata": {
        "id": "BliJ_qu65k75"
      },
      "source": [
        "input_size = 150\n",
        "embedding_size = 70\n",
        "conv_layers = [[256, 7, 3], \n",
        "               [256, 7, 3], \n",
        "               [256, 3, -1], \n",
        "               [256, 3, -1], \n",
        "               [256, 3, -1], \n",
        "   \n",
        "               [256, 3, 3]]\n",
        "\n",
        "fully_connected_layers = [1024, 1024]\n",
        "num_of_classes = 2\n",
        "dropout_p = 0.5\n",
        "optimizer = 'adam'\n",
        "loss = 'categorical_crossentropy'"
      ],
      "execution_count": 14,
      "outputs": []
    },
    {
      "cell_type": "code",
      "metadata": {
        "id": "jXQc9MeA5nes"
      },
      "source": [
        "embedding_layer = Embedding(vocab_size+1, \n",
        "                            embedding_size,\n",
        "                            input_length=input_size,\n",
        "                            weights=[embedding_weights])"
      ],
      "execution_count": 15,
      "outputs": []
    },
    {
      "cell_type": "code",
      "metadata": {
        "colab": {
          "base_uri": "https://localhost:8080/"
        },
        "id": "u7kAMLux5qSR",
        "outputId": "d9e3d64d-b9b4-47bb-f57f-3715f5e19028"
      },
      "source": [
        "inputs = Input(shape=(input_size,), name='input', dtype='int64')  \n",
        "x = embedding_layer(inputs)\n",
        "for filter_num, filter_size, pooling_size in conv_layers:\n",
        "    x = Conv1D(filter_num, filter_size)(x) \n",
        "    x = Activation('relu')(x)\n",
        "    if pooling_size != -1:\n",
        "        x = MaxPooling1D(pool_size=pooling_size)(x) \n",
        "x = Flatten()(x) \n",
        "\n",
        "for dense_size in fully_connected_layers:\n",
        "    x = Dense(dense_size, activation='relu')(x) \n",
        "    x = Dropout(dropout_p)(x)\n",
        "\n",
        "predictions = Dense(num_of_classes, activation='softmax')(x)\n",
        "\n",
        "model = Model(inputs=inputs, outputs=predictions)\n",
        "model.compile(optimizer=optimizer, loss=loss, metrics=['accuracy']) \n",
        "model.summary()"
      ],
      "execution_count": 16,
      "outputs": [
        {
          "output_type": "stream",
          "text": [
            "Model: \"model\"\n",
            "_________________________________________________________________\n",
            "Layer (type)                 Output Shape              Param #   \n",
            "=================================================================\n",
            "input (InputLayer)           [(None, 150)]             0         \n",
            "_________________________________________________________________\n",
            "embedding (Embedding)        (None, 150, 70)           4970      \n",
            "_________________________________________________________________\n",
            "conv1d (Conv1D)              (None, 144, 256)          125696    \n",
            "_________________________________________________________________\n",
            "activation (Activation)      (None, 144, 256)          0         \n",
            "_________________________________________________________________\n",
            "max_pooling1d (MaxPooling1D) (None, 48, 256)           0         \n",
            "_________________________________________________________________\n",
            "conv1d_1 (Conv1D)            (None, 42, 256)           459008    \n",
            "_________________________________________________________________\n",
            "activation_1 (Activation)    (None, 42, 256)           0         \n",
            "_________________________________________________________________\n",
            "max_pooling1d_1 (MaxPooling1 (None, 14, 256)           0         \n",
            "_________________________________________________________________\n",
            "conv1d_2 (Conv1D)            (None, 12, 256)           196864    \n",
            "_________________________________________________________________\n",
            "activation_2 (Activation)    (None, 12, 256)           0         \n",
            "_________________________________________________________________\n",
            "conv1d_3 (Conv1D)            (None, 10, 256)           196864    \n",
            "_________________________________________________________________\n",
            "activation_3 (Activation)    (None, 10, 256)           0         \n",
            "_________________________________________________________________\n",
            "conv1d_4 (Conv1D)            (None, 8, 256)            196864    \n",
            "_________________________________________________________________\n",
            "activation_4 (Activation)    (None, 8, 256)            0         \n",
            "_________________________________________________________________\n",
            "conv1d_5 (Conv1D)            (None, 6, 256)            196864    \n",
            "_________________________________________________________________\n",
            "activation_5 (Activation)    (None, 6, 256)            0         \n",
            "_________________________________________________________________\n",
            "max_pooling1d_2 (MaxPooling1 (None, 2, 256)            0         \n",
            "_________________________________________________________________\n",
            "flatten (Flatten)            (None, 512)               0         \n",
            "_________________________________________________________________\n",
            "dense (Dense)                (None, 1024)              525312    \n",
            "_________________________________________________________________\n",
            "dropout (Dropout)            (None, 1024)              0         \n",
            "_________________________________________________________________\n",
            "dense_1 (Dense)              (None, 1024)              1049600   \n",
            "_________________________________________________________________\n",
            "dropout_1 (Dropout)          (None, 1024)              0         \n",
            "_________________________________________________________________\n",
            "dense_2 (Dense)              (None, 2)                 2050      \n",
            "=================================================================\n",
            "Total params: 2,954,092\n",
            "Trainable params: 2,954,092\n",
            "Non-trainable params: 0\n",
            "_________________________________________________________________\n"
          ],
          "name": "stdout"
        }
      ]
    },
    {
      "cell_type": "code",
      "metadata": {
        "colab": {
          "base_uri": "https://localhost:8080/"
        },
        "id": "o1fxKZgEubZD",
        "outputId": "c87c5143-3f8b-4da9-da0e-c1ef66151c8a"
      },
      "source": [
        "model.fit(train_data, train_classes,  epochs=20, batch_size=30, verbose=1)"
      ],
      "execution_count": 72,
      "outputs": [
        {
          "output_type": "stream",
          "text": [
            "Epoch 1/20\n",
            "853/853 [==============================] - 227s 266ms/step - loss: 0.0580 - accuracy: 0.9815\n",
            "Epoch 2/20\n",
            "853/853 [==============================] - 220s 258ms/step - loss: 0.0547 - accuracy: 0.9823\n",
            "Epoch 3/20\n",
            "853/853 [==============================] - 220s 258ms/step - loss: 0.0392 - accuracy: 0.9881\n",
            "Epoch 4/20\n",
            "853/853 [==============================] - 221s 259ms/step - loss: 0.0363 - accuracy: 0.9883\n",
            "Epoch 5/20\n",
            "853/853 [==============================] - 221s 259ms/step - loss: 0.0332 - accuracy: 0.9894\n",
            "Epoch 6/20\n",
            "853/853 [==============================] - 223s 261ms/step - loss: 0.0331 - accuracy: 0.9902\n",
            "Epoch 7/20\n",
            "853/853 [==============================] - 227s 266ms/step - loss: 0.0281 - accuracy: 0.9916\n",
            "Epoch 8/20\n",
            "853/853 [==============================] - 226s 265ms/step - loss: 0.0232 - accuracy: 0.9926\n",
            "Epoch 9/20\n",
            "853/853 [==============================] - 231s 271ms/step - loss: 0.0191 - accuracy: 0.9947\n",
            "Epoch 10/20\n",
            "853/853 [==============================] - 220s 258ms/step - loss: 0.0297 - accuracy: 0.9907\n",
            "Epoch 11/20\n",
            "853/853 [==============================] - 219s 257ms/step - loss: 0.0446 - accuracy: 0.9875\n",
            "Epoch 12/20\n",
            "853/853 [==============================] - 221s 259ms/step - loss: 0.0142 - accuracy: 0.9954\n",
            "Epoch 13/20\n",
            "853/853 [==============================] - 220s 258ms/step - loss: 0.0293 - accuracy: 0.9925\n",
            "Epoch 14/20\n",
            "853/853 [==============================] - 219s 257ms/step - loss: 0.0188 - accuracy: 0.9945\n",
            "Epoch 15/20\n",
            "853/853 [==============================] - 221s 259ms/step - loss: 0.0250 - accuracy: 0.9937\n",
            "Epoch 16/20\n",
            "853/853 [==============================] - 220s 258ms/step - loss: 0.0169 - accuracy: 0.9955\n",
            "Epoch 17/20\n",
            "853/853 [==============================] - 219s 257ms/step - loss: 0.0119 - accuracy: 0.9961\n",
            "Epoch 18/20\n",
            "853/853 [==============================] - 219s 256ms/step - loss: 0.0120 - accuracy: 0.9963\n",
            "Epoch 19/20\n",
            "853/853 [==============================] - 218s 255ms/step - loss: 0.0252 - accuracy: 0.9934\n",
            "Epoch 20/20\n",
            "853/853 [==============================] - 219s 257ms/step - loss: 0.0228 - accuracy: 0.9935\n"
          ],
          "name": "stdout"
        },
        {
          "output_type": "execute_result",
          "data": {
            "text/plain": [
              "<tensorflow.python.keras.callbacks.History at 0x7f4509b27bd0>"
            ]
          },
          "metadata": {
            "tags": []
          },
          "execution_count": 72
        }
      ]
    },
    {
      "cell_type": "code",
      "metadata": {
        "colab": {
          "base_uri": "https://localhost:8080/"
        },
        "id": "cjlCr7DQLdvT",
        "outputId": "5732336a-3fa9-489e-9ad1-03a80909b549"
      },
      "source": [
        "test_loss, test_acc = model.evaluate(test_data,  test_classes)"
      ],
      "execution_count": 79,
      "outputs": [
        {
          "output_type": "stream",
          "text": [
            "200/200 [==============================] - 12s 58ms/step - loss: 0.4175 - accuracy: 0.9676\n"
          ],
          "name": "stdout"
        }
      ]
    },
    {
      "cell_type": "code",
      "metadata": {
        "id": "OjffnsAh6_RM"
      },
      "source": [
        ""
      ],
      "execution_count": null,
      "outputs": []
    }
  ]
}